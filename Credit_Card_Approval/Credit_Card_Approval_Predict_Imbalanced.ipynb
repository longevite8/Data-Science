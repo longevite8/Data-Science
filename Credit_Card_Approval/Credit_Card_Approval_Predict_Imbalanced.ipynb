{
 "cells": [
  {
   "cell_type": "markdown",
   "id": "84ba34d7",
   "metadata": {},
   "source": [
    "# CREDIT CARD APPROVAL PREDICTION #\n",
    "\n",
    "\n",
    "# Context #\n",
    "\n",
    "Credit score cards are a common risk control method in the financial industry. It uses personal information and data submitted by credit card applicants to predict the probability of future defaults and credit card borrowings. The bank is able to decide whether to issue a credit card to the applicant. Credit scores can objectively quantify the magnitude of risk.\n",
    "\n",
    "#### Task: #### \n",
    "Build a machine learning model to predict if an applicant is 'good' or 'bad' client, different from other tasks, the definition of 'good' or 'bad' is not given. You should use some techique to construct you label. Also, unbalance data problem is a big problem in this task.\n",
    "\n",
    "The data come from kaggle.com: https://www.kaggle.com/rikdifos/credit-card-approval-prediction\n",
    "\n",
    "\n",
    "# Solution: #\n",
    "\n",
    "The data is not small, so we will use PySpark to develop our application. We divide this problem into two phases:\n",
    "\n",
    "## Phase 1: Labeling data ##\n",
    "\n",
    "As the data that we have is not enough information to apply credit score methods such as Fico score or Vintage analysis. So, we will use the clustering method to partition customers. This method allows us to cluster objectively customers based on historical data.  We will perform two process of clustering to filter 'Good' or 'Bad' clients:\n",
    "* First clustering: we use the informations such as the percentages of no loan, paid off and number of past due months to filter the bad suspicion clients, they are input of the second step.\n",
    "* Second clustering: we apply the length debt of clients such as the percentage of one due month, two due months, three due months, four due months, and five due months to cluster on the bad suspicion clients. After this step, we will determine 'bad' clients.\n",
    "\n",
    "By applying two-steps clustering helps us to take a careful look at the data before making decision that a customer is good or bad.\n",
    "\n",
    "## Phase 2: Modeling and prediction ##\n",
    "\n",
    "After labeling data, we will build the models such as LSVC, Logistic Regression, Naive Bayes, GBT, Decision Tree and Random Forest to predict that a customer is good or bad. To solve the imbalanced problem, we will use “balancing” class weights method. It's very simple and effective."
   ]
  },
  {
   "cell_type": "code",
   "execution_count": 1,
   "id": "ad05d16f",
   "metadata": {},
   "outputs": [],
   "source": [
    "import seaborn as sns\n",
    "import matplotlib.pyplot as plt\n",
    "import pandas as pd\n",
    "from pyspark.ml.stat import Correlation\n",
    "from pyspark.ml import Pipeline\n",
    "from pyspark.ml.clustering import KMeans\n",
    "from pyspark.ml.evaluation import ClusteringEvaluator, MulticlassClassificationEvaluator\n",
    "from pyspark.ml.feature import VectorAssembler,StringIndexer,OneHotEncoder,MinMaxScaler, UnivariateFeatureSelector\n",
    "from pyspark.sql.functions import col, lit, when, desc, mean\n",
    "from pyspark.sql.types import *\n",
    "from sklearn.metrics import confusion_matrix"
   ]
  },
  {
   "cell_type": "code",
   "execution_count": 2,
   "id": "467eb3f0",
   "metadata": {},
   "outputs": [],
   "source": [
    "# Using Kmean to cluster the clients\n",
    "# Arguments: df - dataframe of clients\n",
    "#            vector - vectorAssembler of features to analyze\n",
    "def clustering_clients(df, vector):\n",
    "    # Create Kmean model with 5 clusters\n",
    "    kmeans = KMeans().setK(5).setSeed(1)\n",
    "    # Initial MinMax Scaler object\n",
    "    min_max_scaler = MinMaxScaler(inputCol=\"features\", outputCol=\"features_norm\")\n",
    "    # Create pipeline with vector assembler, min max scaler and Kmean\n",
    "    pipeline = Pipeline(stages=[vector, min_max_scaler, kmeans])\n",
    "    #Fitting data\n",
    "    model = pipeline.fit(df) \n",
    "    # Evaluate clustering by computing Silhouette score\n",
    "    evaluator = ClusteringEvaluator()\n",
    "    pred= model.transform(df)\n",
    "    silhouette = evaluator.evaluate(pred)\n",
    "    print(\"Silhouette with squared euclidean distance = \" + str(silhouette))\n",
    "    # Drop features and features_norm columns\n",
    "    columns_to_drop = ['features', 'features_norm']\n",
    "    pred = pred.drop(*columns_to_drop)\n",
    "    return pred"
   ]
  },
  {
   "cell_type": "code",
   "execution_count": 3,
   "id": "bd538e6e",
   "metadata": {},
   "outputs": [],
   "source": [
    "# Plot heatmap for number data\n",
    "# Arguments: df is a number dataframe\n",
    "def plot_heatmap(df):\n",
    "    # Correlation between different variables\n",
    "    corr = df.corr()\n",
    "    # Set up the matplotlib plot configuration\n",
    "    f, ax = plt.subplots(figsize=(12, 10))\n",
    "    # Draw the heatmap\n",
    "    sns.heatmap(corr, annot=True)"
   ]
  },
  {
   "cell_type": "code",
   "execution_count": 4,
   "id": "b356a272",
   "metadata": {},
   "outputs": [],
   "source": [
    "# Calculate correlation and plot heatmap\n",
    "# Arguments:\n",
    "# df: dataframe\n",
    "# Cols: features to heatmap\n",
    "def correlation_heatmap(df,cols):\n",
    "    vector_col = \"corr_features\"\n",
    "    assembler = VectorAssembler(inputCols=cols, outputCol=vector_col)\n",
    "    myGraph_vector = assembler.transform(df).select(vector_col)\n",
    "    matrix = Correlation.corr(myGraph_vector, vector_col)\n",
    "\n",
    "    matrix = Correlation.corr(myGraph_vector, vector_col).collect()[0][0]\n",
    "    corrmatrix = matrix.toArray().tolist()\n",
    "    df_corr = pd.DataFrame(corrmatrix,columns=cols)\n",
    "    plot_heatmap(df_corr)"
   ]
  },
  {
   "cell_type": "code",
   "execution_count": 5,
   "id": "df7ced8b",
   "metadata": {},
   "outputs": [],
   "source": [
    "# Add the \"weight\" column into dataframe df to solve imbalanced data\n",
    "# Arguments:\n",
    "# df: is a imbalanced dataframe\n",
    "# target_col: name of target column, its values are '1' or '0'(string)\n",
    "# Return: a dataframe contains the \"weight\" column (= df + \"weight\" column)\n",
    "def add_weight_column(df, target_col):\n",
    "    # Check imbalance and compute weights\n",
    "    counts = df.groupBy(target_col).count().toPandas()\n",
    "    #print(counts)\n",
    "\n",
    "    # Counts\n",
    "    count_best = counts[counts[target_col]==1]['count'].values[0]\n",
    "    count_total = counts['count'].sum()\n",
    "\n",
    "    # Weights\n",
    "    c = 2\n",
    "    '''\n",
    "    # Good for lsvc model\n",
    "    weight_best = (count_total / (c * count_best))*1.05\n",
    "    weight_bad = (count_total / (c * (count_total - count_best)))\n",
    "    '''\n",
    "    '''\n",
    "    # Good for Naive Bayes model\n",
    "    weight_best = (count_total / (c * count_best))*1.4\n",
    "    weight_bad = (count_total / (c * (count_total - count_best)))\n",
    "    '''\n",
    "\n",
    "    # Good for tree models\n",
    "    weight_best = (count_total / (c * count_best))*1.7\n",
    "    weight_bad = (count_total / (c * (count_total - count_best)))\n",
    "\n",
    "    df = df.withColumn(\"weight\", when(col(target_col) ==1, weight_best).otherwise(weight_bad))\n",
    "\n",
    "    # Check everything seems ok\n",
    "    #df.select(target_col, 'weight').where(col(target_col)=='1').show(3)\n",
    "    #df.select(target_col, 'weight').where(col(target_col)=='0').show(3)\n",
    "    \n",
    "    return df"
   ]
  },
  {
   "cell_type": "code",
   "execution_count": 6,
   "id": "01570f65",
   "metadata": {},
   "outputs": [],
   "source": [
    "# Split randomly data make sure data of classes are splitted as given rate\n",
    "def split_data(df,trainning_rate,testing_rate):\n",
    "    df_class0 = df.filter(\"Class==0\")\n",
    "    df_class1 = df.filter(\"Class==1\")\n",
    "    splits0 = df_class0.randomSplit([trainning_rate, testing_rate])\n",
    "    df_train0 = splits0[0]\n",
    "    df_test0 = splits0[1]\n",
    "    splits1 = df_class1.randomSplit([trainning_rate, testing_rate])\n",
    "    df_train1 = splits1[0]\n",
    "    df_test1 = splits1[1]\n",
    "    return([df_train0.union(df_train1),df_test0.union(df_test1)])"
   ]
  },
  {
   "cell_type": "code",
   "execution_count": 7,
   "id": "1d4394b4",
   "metadata": {},
   "outputs": [],
   "source": [
    "# One hot data\n",
    "def one_hot_pipeline(df,cols):\n",
    "    onehot_stages = []\n",
    "    for col in cols:\n",
    "        encoder = OneHotEncoder(inputCols=[col+'Index'], outputCols=[col+'Vector'])\n",
    "        onehot_stages += [encoder]\n",
    "    onehot_pipeline = Pipeline().setStages(onehot_stages)\n",
    "    model_pipeline = onehot_pipeline.fit(df)\n",
    "    return model_pipeline.transform(df)"
   ]
  },
  {
   "cell_type": "code",
   "execution_count": 8,
   "id": "3aef102d",
   "metadata": {},
   "outputs": [],
   "source": [
    "# String Index data\n",
    "def stringIndex_pipeline(df,cols):\n",
    "    index_stages = []\n",
    "    for col in cols:\n",
    "        indexer = StringIndexer(inputCol=col, outputCol=col+'Index')\n",
    "        index_stages += [indexer]\n",
    "    str_index_pipeline = Pipeline().setStages(index_stages)\n",
    "    model_pipeline = str_index_pipeline.fit(df)\n",
    "    return model_pipeline.transform(df)\n",
    "    "
   ]
  },
  {
   "cell_type": "code",
   "execution_count": 9,
   "id": "682dab71",
   "metadata": {},
   "outputs": [],
   "source": [
    "# Training and get accuracy and confusion matrix of models: Lsvc, lr, gbt, decision tree, random forest and naive bayes\n",
    "# Arguments:\n",
    "# df_train: training dataframe\n",
    "# df_test: testing dataframe\n",
    "# numeric_cols: list of numeric columns (features)\n",
    "# categorical_cols: list of categorical columns (features)\n",
    "# Return: a dictionary contains accuracy and confusion matrix of models.\n",
    "def get_accuracy_models(df_train,df_test,numeric_cols,categorical_cols):\n",
    "    \n",
    "    models_dict = {\n",
    "        0: ['Logistic Regression', 'lr_pred'],\n",
    "        1: ['LSVC', 'lsvc_pred'],\n",
    "        2: ['Naive Bayes', 'nb_pred'],\n",
    "        3: ['GBT', 'gbt_pred'],\n",
    "        4: ['Decision Tree', 'dt_pred'],\n",
    "        5: ['Random Forest', 'rf_pred']\n",
    "    }\n",
    "    # String Index 'Class' target variable\n",
    "    indexer = StringIndexer(inputCol=\"Class\", outputCol=\"label\")\n",
    "    # Vectoc Assembler for all numeric features\n",
    "    num_vector = VectorAssembler(inputCols=numeric_cols,outputCol=\"num_features\")\n",
    "    # Vector Assembler for all categorical features\n",
    "    cate_vector = VectorAssembler(inputCols=[c+'Vector' for c in categorical_cols],outputCol=\"cate_features\")\n",
    "    # Normalization for all numeric features\n",
    "    num_normalizer = MinMaxScaler(inputCol=\"num_features\", outputCol=\"num_features_norm\")\n",
    "    # Normalization for all categorical features\n",
    "    cate_normalizer = MinMaxScaler(inputCol=\"cate_features\", outputCol=\"cate_features_norm\")\n",
    "    # User feature selector to select two best numeric features\n",
    "    num_selector = UnivariateFeatureSelector(featuresCol=\"num_features_norm\", outputCol=\"num_selectedFeatures\",\n",
    "                                     labelCol=\"label\", selectionMode=\"numTopFeatures\")\n",
    "    num_selector.setFeatureType(\"continuous\").setLabelType(\"categorical\").setSelectionThreshold(2)\n",
    "     # User feature selector to select four best categorical features\n",
    "    cate_selector = UnivariateFeatureSelector(featuresCol=\"cate_features_norm\", outputCol=\"cate_selectedFeatures\",\n",
    "                                     labelCol=\"label\", selectionMode=\"numTopFeatures\")\n",
    "    cate_selector.setFeatureType(\"categorical\").setLabelType(\"categorical\").setSelectionThreshold(4)\n",
    "    # Vector Assembler for all selected features\n",
    "    vectorAssembler = VectorAssembler(inputCols=[\"num_selectedFeatures\",\"cate_selectedFeatures\"],\\\n",
    "                                      outputCol=\"features\")\n",
    "    \n",
    "    # LSVC\n",
    "    from pyspark.ml.classification import LinearSVC\n",
    "    lsvc = LinearSVC(labelCol=\"label\", featuresCol=\"features\", weightCol=\"weight\", predictionCol=models_dict[1][1],\\\n",
    "                     rawPredictionCol='raw_'+models_dict[1][1], maxIter=10, regParam=0.1)\n",
    "\n",
    "    # GBTClassifier  \n",
    "    from pyspark.ml.classification import GBTClassifier\n",
    "    gbt = GBTClassifier(labelCol=\"label\", featuresCol=\"features\", weightCol=\"weight\",\\\n",
    "                        predictionCol=models_dict[3][1], maxIter=10)\n",
    "\n",
    "    # Logistic Regression\n",
    "    from pyspark.ml.classification import LogisticRegression\n",
    "    lr = LogisticRegression(labelCol=\"label\", featuresCol=\"features\", weightCol=\"weight\",\\\n",
    "                            predictionCol=models_dict[0][1], maxIter=10, regParam=0.3,\\\n",
    "                            rawPredictionCol='raw_'+models_dict[0][1], probabilityCol='prob_'+models_dict[0][1],elasticNetParam=0.8)\n",
    "\n",
    "\n",
    "    # DecisionTree\n",
    "    from pyspark.ml.classification import DecisionTreeClassifier\n",
    "    dt = DecisionTreeClassifier(labelCol=\"label\", featuresCol=\"features\", weightCol=\"weight\",\\\n",
    "                                predictionCol=models_dict[4][1], rawPredictionCol='raw_'+models_dict[4][1],\\\n",
    "                               probabilityCol='prob_'+models_dict[4][1])\n",
    "\n",
    "    # RandomForest\n",
    "    from pyspark.ml.classification import RandomForestClassifier\n",
    "    rf = RandomForestClassifier(labelCol=\"label\", featuresCol=\"features\", weightCol=\"weight\",\\\n",
    "                                predictionCol=models_dict[5][1], rawPredictionCol='raw_'+models_dict[5][1],\\\n",
    "                                probabilityCol='prob_'+models_dict[5][1],numTrees=10)\n",
    "\n",
    "    # Naive Bayes\n",
    "    from pyspark.ml.classification import NaiveBayes\n",
    "    nb = NaiveBayes(labelCol=\"label\", featuresCol=\"features\", weightCol=\"weight\", smoothing=1.0, \\\n",
    "                    predictionCol=models_dict[2][1], rawPredictionCol='raw_'+models_dict[2][1], \\\n",
    "                    probabilityCol='prob_'+models_dict[2][1], modelType=\"multinomial\")\n",
    "\n",
    "    # Create pipeline\n",
    "    pipeline = Pipeline(stages=[indexer, num_vector, cate_vector, num_normalizer, cate_normalizer,\\\n",
    "                                num_selector, cate_selector, vectorAssembler, lr, lsvc, nb, gbt, dt, rf])\n",
    "    # Fitting data\n",
    "    pipe_model = pipeline.fit(df_train)\n",
    "    # Prediction\n",
    "    prediction = pipe_model.transform(df_test).select(\"label\",models_dict[0][1],models_dict[1][1],\\\n",
    "                                models_dict[2][1],models_dict[3][1],models_dict[4][1],models_dict[5][1])\n",
    "    # Get true value\n",
    "    y_true = prediction.select(['label']).collect()\n",
    "    # Loop for all models to calculate accuracy and confusion matrix\n",
    "    for key in models_dict:\n",
    "        y_pred = prediction.select([models_dict[key][1]]).collect()\n",
    "        \n",
    "        eval_accuracy = MulticlassClassificationEvaluator(labelCol=\"label\", predictionCol=models_dict[key][1],\\\n",
    "                                                          metricName=\"accuracy\")\n",
    "        \n",
    "        models_dict[key].append(eval_accuracy.evaluate(prediction))\n",
    "        models_dict[key].append(confusion_matrix(y_true, y_pred))\n",
    "    # return the result dictionary    \n",
    "    return models_dict"
   ]
  },
  {
   "cell_type": "code",
   "execution_count": 10,
   "id": "057ab034",
   "metadata": {},
   "outputs": [],
   "source": [
    "# Import spark context, configure\n",
    "try:\n",
    "    from pyspark import SparkContext, SparkConf\n",
    "    from pyspark.sql import SparkSession\n",
    "except ImportError as e:\n",
    "    printmd('<<<<<!!!!! Please restart your kernel after installing Apache Spark !!!!!>>>>>')"
   ]
  },
  {
   "cell_type": "code",
   "execution_count": 11,
   "id": "7ef59677",
   "metadata": {
    "scrolled": true
   },
   "outputs": [
    {
     "name": "stderr",
     "output_type": "stream",
     "text": [
      "21/12/27 12:36:04 WARN NativeCodeLoader: Unable to load native-hadoop library for your platform... using builtin-java classes where applicable\n",
      "Using Spark's default log4j profile: org/apache/spark/log4j-defaults.properties\n",
      "Setting default log level to \"WARN\".\n",
      "To adjust logging level use sc.setLogLevel(newLevel). For SparkR, use setLogLevel(newLevel).\n"
     ]
    }
   ],
   "source": [
    "# Get spark context\n",
    "sc = SparkContext.getOrCreate(SparkConf().setMaster(\"local[*]\"))\n",
    "\n",
    "spark = SparkSession \\\n",
    "    .builder \\\n",
    "    .getOrCreate()"
   ]
  },
  {
   "cell_type": "markdown",
   "id": "16c07a37",
   "metadata": {},
   "source": [
    "## Phase 1: Labeling data ##"
   ]
  },
  {
   "cell_type": "code",
   "execution_count": 12,
   "id": "b254fe93",
   "metadata": {},
   "outputs": [
    {
     "name": "stderr",
     "output_type": "stream",
     "text": [
      "                                                                                \r"
     ]
    }
   ],
   "source": [
    "# create a dataframe out of it\n",
    "df_credit = spark.read.format(\"csv\").option(\"header\", \"true\").load(\"credit_record.csv\")\n",
    "# register a corresponding query table\n",
    "df_credit.createOrReplaceTempView('credit_record')\n",
    "# Filter the client non overdue\n",
    "df_non_overdue = spark.sql(\"select * from credit_record where ID not in \\\n",
    "                            (select distinct(ID) from credit_record where STATUS ='5')\")\n",
    "# Create a table for non overdue clients\n",
    "df_non_overdue.createOrReplaceTempView('credit_record_non_overdue')"
   ]
  },
  {
   "cell_type": "code",
   "execution_count": 13,
   "id": "a69ba7a3",
   "metadata": {},
   "outputs": [],
   "source": [
    "# Count the number of months of non overdue clients\n",
    "df_summary = spark.sql(\"select ID, count(*) as months from credit_record_non_overdue group by ID\")"
   ]
  },
  {
   "cell_type": "code",
   "execution_count": 14,
   "id": "92689a04",
   "metadata": {},
   "outputs": [
    {
     "name": "stderr",
     "output_type": "stream",
     "text": [
      "                                                                                \r"
     ]
    },
    {
     "data": {
      "text/html": [
       "<div>\n",
       "<style scoped>\n",
       "    .dataframe tbody tr th:only-of-type {\n",
       "        vertical-align: middle;\n",
       "    }\n",
       "\n",
       "    .dataframe tbody tr th {\n",
       "        vertical-align: top;\n",
       "    }\n",
       "\n",
       "    .dataframe thead th {\n",
       "        text-align: right;\n",
       "    }\n",
       "</style>\n",
       "<table border=\"1\" class=\"dataframe\">\n",
       "  <thead>\n",
       "    <tr style=\"text-align: right;\">\n",
       "      <th></th>\n",
       "      <th>ID</th>\n",
       "      <th>months</th>\n",
       "    </tr>\n",
       "  </thead>\n",
       "  <tbody>\n",
       "    <tr>\n",
       "      <th>0</th>\n",
       "      <td>5001858</td>\n",
       "      <td>32</td>\n",
       "    </tr>\n",
       "    <tr>\n",
       "      <th>1</th>\n",
       "      <td>5002083</td>\n",
       "      <td>20</td>\n",
       "    </tr>\n",
       "    <tr>\n",
       "      <th>2</th>\n",
       "      <td>5002574</td>\n",
       "      <td>12</td>\n",
       "    </tr>\n",
       "    <tr>\n",
       "      <th>3</th>\n",
       "      <td>5003166</td>\n",
       "      <td>13</td>\n",
       "    </tr>\n",
       "    <tr>\n",
       "      <th>4</th>\n",
       "      <td>5003224</td>\n",
       "      <td>58</td>\n",
       "    </tr>\n",
       "    <tr>\n",
       "      <th>...</th>\n",
       "      <td>...</td>\n",
       "      <td>...</td>\n",
       "    </tr>\n",
       "    <tr>\n",
       "      <th>45785</th>\n",
       "      <td>5149472</td>\n",
       "      <td>44</td>\n",
       "    </tr>\n",
       "    <tr>\n",
       "      <th>45786</th>\n",
       "      <td>5149651</td>\n",
       "      <td>30</td>\n",
       "    </tr>\n",
       "    <tr>\n",
       "      <th>45787</th>\n",
       "      <td>5149870</td>\n",
       "      <td>12</td>\n",
       "    </tr>\n",
       "    <tr>\n",
       "      <th>45788</th>\n",
       "      <td>5149876</td>\n",
       "      <td>16</td>\n",
       "    </tr>\n",
       "    <tr>\n",
       "      <th>45789</th>\n",
       "      <td>5143350</td>\n",
       "      <td>12</td>\n",
       "    </tr>\n",
       "  </tbody>\n",
       "</table>\n",
       "<p>45790 rows × 2 columns</p>\n",
       "</div>"
      ],
      "text/plain": [
       "            ID  months\n",
       "0      5001858      32\n",
       "1      5002083      20\n",
       "2      5002574      12\n",
       "3      5003166      13\n",
       "4      5003224      58\n",
       "...        ...     ...\n",
       "45785  5149472      44\n",
       "45786  5149651      30\n",
       "45787  5149870      12\n",
       "45788  5149876      16\n",
       "45789  5143350      12\n",
       "\n",
       "[45790 rows x 2 columns]"
      ]
     },
     "execution_count": 14,
     "metadata": {},
     "output_type": "execute_result"
    }
   ],
   "source": [
    "df_summary.toPandas()"
   ]
  },
  {
   "cell_type": "code",
   "execution_count": 15,
   "id": "c2dfe0ea",
   "metadata": {},
   "outputs": [],
   "source": [
    "# Count the number of past due months of clients\n",
    "df_due_months = spark.sql(\"select ID, count(*) as due_months from credit_record_non_overdue \\\n",
    "                          where !((STATUS=='C') or (STATUS=='X')) \\\n",
    "                          group by ID\")"
   ]
  },
  {
   "cell_type": "code",
   "execution_count": 16,
   "id": "2b7ffbf3",
   "metadata": {},
   "outputs": [],
   "source": [
    "# Count the number of one past due months of clients\n",
    "df_one_due_month = spark.sql(\"select ID, count(*) as one_due_month from credit_record_non_overdue \\\n",
    "                                    where STATUS=='0' group by ID\")"
   ]
  },
  {
   "cell_type": "code",
   "execution_count": 17,
   "id": "0690badc",
   "metadata": {},
   "outputs": [],
   "source": [
    "# Count the number of two past due months of clients\n",
    "df_two_due_months = spark.sql(\"select ID, count(*) as two_due_months from credit_record_non_overdue \\\n",
    "                                    where STATUS=='1' group by ID\")"
   ]
  },
  {
   "cell_type": "code",
   "execution_count": 18,
   "id": "6d947ddc",
   "metadata": {},
   "outputs": [],
   "source": [
    "# Count the number of three past due months of clients\n",
    "df_three_due_months = spark.sql(\"select ID, count(*) as three_due_months from credit_record_non_overdue \\\n",
    "                                    where STATUS=='2' group by ID\")"
   ]
  },
  {
   "cell_type": "code",
   "execution_count": 19,
   "id": "0dbdf8e1",
   "metadata": {},
   "outputs": [],
   "source": [
    "# Count the number of four past due months of clients\n",
    "df_four_due_months = spark.sql(\"select ID, count(*) as four_due_months from credit_record_non_overdue \\\n",
    "                                    where STATUS=='3' group by ID\")"
   ]
  },
  {
   "cell_type": "code",
   "execution_count": 20,
   "id": "c890dd46",
   "metadata": {},
   "outputs": [],
   "source": [
    "# Count the number of five past due months of clients\n",
    "df_five_due_months = spark.sql(\"select ID, count(*) as five_due_months from credit_record_non_overdue \\\n",
    "                                    where STATUS=='4' group by ID\")"
   ]
  },
  {
   "cell_type": "code",
   "execution_count": 21,
   "id": "a0db971f",
   "metadata": {},
   "outputs": [],
   "source": [
    "# Count the number of paid off months of clients\n",
    "df_paid_off_months = spark.sql(\"select ID, count(*) as paid_off_months from credit_record_non_overdue \\\n",
    "                                    where STATUS=='C' group by ID\")"
   ]
  },
  {
   "cell_type": "code",
   "execution_count": 22,
   "id": "bd7b41df",
   "metadata": {},
   "outputs": [],
   "source": [
    "# Count the number of no loan months of clients\n",
    "df_no_loan_months = spark.sql(\"select ID, count(*) as no_loan_months from credit_record_non_overdue \\\n",
    "                                    where STATUS=='X' group by ID\")"
   ]
  },
  {
   "cell_type": "code",
   "execution_count": 23,
   "id": "f0561c30",
   "metadata": {},
   "outputs": [],
   "source": [
    "# Join all data to a summary dataframe\n",
    "df_summary = df_summary.join(df_no_loan_months, df_summary.ID == df_no_loan_months.ID, 'outer')\\\n",
    "                       .select(df_summary['*'], df_no_loan_months.no_loan_months) \n",
    "df_summary = df_summary.join(df_paid_off_months, df_summary.ID == df_paid_off_months.ID, 'outer')\\\n",
    "                       .select(df_summary['*'], df_paid_off_months.paid_off_months) \n",
    "df_summary = df_summary.join(df_due_months, df_summary.ID == df_due_months.ID, 'outer')\\\n",
    "                       .select(df_summary['*'], df_due_months.due_months) \n",
    "df_summary = df_summary.join(df_one_due_month, df_summary.ID == df_one_due_month.ID, 'outer')\\\n",
    "                       .select(df_summary['*'], df_one_due_month.one_due_month) \n",
    "df_summary = df_summary.join(df_two_due_months, df_summary.ID == df_two_due_months.ID, 'outer')\\\n",
    "                       .select(df_summary['*'], df_two_due_months.two_due_months) \n",
    "df_summary = df_summary.join(df_three_due_months, df_summary.ID == df_three_due_months.ID, 'outer')\\\n",
    "                       .select(df_summary['*'], df_three_due_months.three_due_months) \n",
    "df_summary = df_summary.join(df_four_due_months, df_summary.ID == df_four_due_months.ID, 'outer')\\\n",
    "                       .select(df_summary['*'], df_four_due_months.four_due_months) \n",
    "df_summary = df_summary.join(df_five_due_months, df_summary.ID == df_five_due_months.ID, 'outer')\\\n",
    "                       .select(df_summary['*'], df_five_due_months.five_due_months) "
   ]
  },
  {
   "cell_type": "code",
   "execution_count": 24,
   "id": "3793dfc0",
   "metadata": {},
   "outputs": [],
   "source": [
    "# Replace NaN to 0\n",
    "df_summary = df_summary.na.fill(value=0)"
   ]
  },
  {
   "cell_type": "code",
   "execution_count": 25,
   "id": "6976d7a6",
   "metadata": {},
   "outputs": [],
   "source": [
    "# Convert the number of months to percentage\n",
    "df_summary = df_summary.withColumn(\"one_due_month\", when(col(\"due_months\")!=0, col(\"one_due_month\")*100 / col(\"due_months\")).otherwise(0))\n",
    "df_summary = df_summary.withColumn(\"two_due_months\", when(col(\"due_months\")!=0, col(\"two_due_months\")*100 / col(\"due_months\")).otherwise(0))\n",
    "df_summary = df_summary.withColumn(\"three_due_months\", when(col(\"due_months\")!=0, col(\"three_due_months\")*100 / col(\"due_months\")).otherwise(0))\n",
    "df_summary = df_summary.withColumn(\"four_due_months\", when(col(\"due_months\")!=0, col(\"four_due_months\")*100 / col(\"due_months\")).otherwise(0))\n",
    "df_summary = df_summary.withColumn(\"five_due_months\", when(col(\"due_months\")!=0, col(\"five_due_months\")*100 / col(\"due_months\")).otherwise(0))\n",
    "df_summary = df_summary.withColumn(\"no_loan_months\", when(col(\"months\")!=0, col(\"no_loan_months\")*100 / col(\"months\")).otherwise(0))\n",
    "df_summary = df_summary.withColumn(\"paid_off_months\", when(col(\"months\")!=0, col(\"paid_off_months\")*100 / col(\"months\")).otherwise(0))\n",
    "df_summary = df_summary.withColumn(\"due_months\", when(col(\"months\")!=0, col(\"due_months\")*100 / col(\"months\")).otherwise(0))"
   ]
  },
  {
   "cell_type": "code",
   "execution_count": 26,
   "id": "2ee9e347",
   "metadata": {},
   "outputs": [
    {
     "name": "stderr",
     "output_type": "stream",
     "text": [
      "                                                                                \r"
     ]
    },
    {
     "data": {
      "text/html": [
       "<div>\n",
       "<style scoped>\n",
       "    .dataframe tbody tr th:only-of-type {\n",
       "        vertical-align: middle;\n",
       "    }\n",
       "\n",
       "    .dataframe tbody tr th {\n",
       "        vertical-align: top;\n",
       "    }\n",
       "\n",
       "    .dataframe thead th {\n",
       "        text-align: right;\n",
       "    }\n",
       "</style>\n",
       "<table border=\"1\" class=\"dataframe\">\n",
       "  <thead>\n",
       "    <tr style=\"text-align: right;\">\n",
       "      <th></th>\n",
       "      <th>ID</th>\n",
       "      <th>months</th>\n",
       "      <th>no_loan_months</th>\n",
       "      <th>paid_off_months</th>\n",
       "      <th>due_months</th>\n",
       "      <th>one_due_month</th>\n",
       "      <th>two_due_months</th>\n",
       "      <th>three_due_months</th>\n",
       "      <th>four_due_months</th>\n",
       "      <th>five_due_months</th>\n",
       "    </tr>\n",
       "  </thead>\n",
       "  <tbody>\n",
       "    <tr>\n",
       "      <th>0</th>\n",
       "      <td>5001858</td>\n",
       "      <td>32</td>\n",
       "      <td>0.000000</td>\n",
       "      <td>62.500000</td>\n",
       "      <td>37.500000</td>\n",
       "      <td>100.0</td>\n",
       "      <td>0.0</td>\n",
       "      <td>0.0</td>\n",
       "      <td>0.0</td>\n",
       "      <td>0.0</td>\n",
       "    </tr>\n",
       "    <tr>\n",
       "      <th>1</th>\n",
       "      <td>5002083</td>\n",
       "      <td>20</td>\n",
       "      <td>0.000000</td>\n",
       "      <td>80.000000</td>\n",
       "      <td>20.000000</td>\n",
       "      <td>100.0</td>\n",
       "      <td>0.0</td>\n",
       "      <td>0.0</td>\n",
       "      <td>0.0</td>\n",
       "      <td>0.0</td>\n",
       "    </tr>\n",
       "    <tr>\n",
       "      <th>2</th>\n",
       "      <td>5002574</td>\n",
       "      <td>12</td>\n",
       "      <td>0.000000</td>\n",
       "      <td>0.000000</td>\n",
       "      <td>100.000000</td>\n",
       "      <td>100.0</td>\n",
       "      <td>0.0</td>\n",
       "      <td>0.0</td>\n",
       "      <td>0.0</td>\n",
       "      <td>0.0</td>\n",
       "    </tr>\n",
       "    <tr>\n",
       "      <th>3</th>\n",
       "      <td>5003166</td>\n",
       "      <td>13</td>\n",
       "      <td>7.692308</td>\n",
       "      <td>61.538462</td>\n",
       "      <td>30.769231</td>\n",
       "      <td>100.0</td>\n",
       "      <td>0.0</td>\n",
       "      <td>0.0</td>\n",
       "      <td>0.0</td>\n",
       "      <td>0.0</td>\n",
       "    </tr>\n",
       "    <tr>\n",
       "      <th>4</th>\n",
       "      <td>5003224</td>\n",
       "      <td>58</td>\n",
       "      <td>0.000000</td>\n",
       "      <td>79.310345</td>\n",
       "      <td>20.689655</td>\n",
       "      <td>100.0</td>\n",
       "      <td>0.0</td>\n",
       "      <td>0.0</td>\n",
       "      <td>0.0</td>\n",
       "      <td>0.0</td>\n",
       "    </tr>\n",
       "  </tbody>\n",
       "</table>\n",
       "</div>"
      ],
      "text/plain": [
       "        ID  months  no_loan_months  paid_off_months  due_months  \\\n",
       "0  5001858      32        0.000000        62.500000   37.500000   \n",
       "1  5002083      20        0.000000        80.000000   20.000000   \n",
       "2  5002574      12        0.000000         0.000000  100.000000   \n",
       "3  5003166      13        7.692308        61.538462   30.769231   \n",
       "4  5003224      58        0.000000        79.310345   20.689655   \n",
       "\n",
       "   one_due_month  two_due_months  three_due_months  four_due_months  \\\n",
       "0          100.0             0.0               0.0              0.0   \n",
       "1          100.0             0.0               0.0              0.0   \n",
       "2          100.0             0.0               0.0              0.0   \n",
       "3          100.0             0.0               0.0              0.0   \n",
       "4          100.0             0.0               0.0              0.0   \n",
       "\n",
       "   five_due_months  \n",
       "0              0.0  \n",
       "1              0.0  \n",
       "2              0.0  \n",
       "3              0.0  \n",
       "4              0.0  "
      ]
     },
     "execution_count": 26,
     "metadata": {},
     "output_type": "execute_result"
    }
   ],
   "source": [
    "df_summary.toPandas().head()"
   ]
  },
  {
   "cell_type": "markdown",
   "id": "955556b9",
   "metadata": {},
   "source": [
    "### Important Notes ###\n",
    "To filter 'good' or 'bad' clients, we will perform two process of clustering:\n",
    "* First clustering: we use the informations such as the percentages of no loan, paid off and number of past due months to filter the bad suspicion clients, they are input of the second step.\n",
    "* Second clustering: we apply the length debt of clients such as the percentage of one due month, two due months, three due months, four due months, and five due months to cluster on the bad suspicion clients. After this step, we will determine 'bad' clients."
   ]
  },
  {
   "cell_type": "markdown",
   "id": "4720c3ba",
   "metadata": {},
   "source": [
    "### Fisrt Clustering: Determine the bad suspicion clients ###"
   ]
  },
  {
   "cell_type": "code",
   "execution_count": 27,
   "id": "1eb28d6e",
   "metadata": {},
   "outputs": [
    {
     "name": "stderr",
     "output_type": "stream",
     "text": [
      "21/12/27 12:37:14 WARN BLAS: Failed to load implementation from: com.github.fommil.netlib.NativeSystemBLAS\n",
      "21/12/27 12:37:14 WARN BLAS: Failed to load implementation from: com.github.fommil.netlib.NativeRefBLAS\n",
      "[Stage 449:=====================================>               (141 + 9) / 200]\r"
     ]
    },
    {
     "name": "stdout",
     "output_type": "stream",
     "text": [
      "Silhouette with squared euclidean distance = 0.7760094267242679\n"
     ]
    },
    {
     "name": "stderr",
     "output_type": "stream",
     "text": [
      "\r",
      "                                                                                \r"
     ]
    }
   ],
   "source": [
    "# Clustering clients by percentage of no loan months, paid off months, due months.\n",
    "vectorAssembler = VectorAssembler(inputCols=[\"no_loan_months\",\"paid_off_months\", \"due_months\"],\n",
    "                                  outputCol=\"features\")\n",
    "# Clustering\n",
    "predictions = clustering_clients(df_summary,vectorAssembler)"
   ]
  },
  {
   "cell_type": "code",
   "execution_count": 28,
   "id": "ae1f6f33",
   "metadata": {},
   "outputs": [
    {
     "name": "stderr",
     "output_type": "stream",
     "text": [
      "                                                                                \r"
     ]
    },
    {
     "data": {
      "text/html": [
       "<div>\n",
       "<style scoped>\n",
       "    .dataframe tbody tr th:only-of-type {\n",
       "        vertical-align: middle;\n",
       "    }\n",
       "\n",
       "    .dataframe tbody tr th {\n",
       "        vertical-align: top;\n",
       "    }\n",
       "\n",
       "    .dataframe thead th {\n",
       "        text-align: right;\n",
       "    }\n",
       "</style>\n",
       "<table border=\"1\" class=\"dataframe\">\n",
       "  <thead>\n",
       "    <tr style=\"text-align: right;\">\n",
       "      <th></th>\n",
       "      <th>count(1)</th>\n",
       "      <th>avg(months)</th>\n",
       "      <th>avg(no_loan_months)</th>\n",
       "      <th>avg(paid_off_months)</th>\n",
       "      <th>avg(due_months)</th>\n",
       "      <th>prediction</th>\n",
       "    </tr>\n",
       "  </thead>\n",
       "  <tbody>\n",
       "    <tr>\n",
       "      <th>0</th>\n",
       "      <td>6086</td>\n",
       "      <td>23.221328</td>\n",
       "      <td>95.631171</td>\n",
       "      <td>1.582404</td>\n",
       "      <td>2.786425</td>\n",
       "      <td>1</td>\n",
       "    </tr>\n",
       "    <tr>\n",
       "      <th>1</th>\n",
       "      <td>5196</td>\n",
       "      <td>17.255581</td>\n",
       "      <td>46.810659</td>\n",
       "      <td>1.442542</td>\n",
       "      <td>51.746799</td>\n",
       "      <td>3</td>\n",
       "    </tr>\n",
       "    <tr>\n",
       "      <th>2</th>\n",
       "      <td>7258</td>\n",
       "      <td>24.021494</td>\n",
       "      <td>3.346580</td>\n",
       "      <td>47.574898</td>\n",
       "      <td>49.078522</td>\n",
       "      <td>4</td>\n",
       "    </tr>\n",
       "    <tr>\n",
       "      <th>3</th>\n",
       "      <td>12914</td>\n",
       "      <td>33.195911</td>\n",
       "      <td>3.387015</td>\n",
       "      <td>80.069743</td>\n",
       "      <td>16.543242</td>\n",
       "      <td>2</td>\n",
       "    </tr>\n",
       "    <tr>\n",
       "      <th>4</th>\n",
       "      <td>14336</td>\n",
       "      <td>14.488770</td>\n",
       "      <td>6.007811</td>\n",
       "      <td>1.984874</td>\n",
       "      <td>92.007315</td>\n",
       "      <td>0</td>\n",
       "    </tr>\n",
       "  </tbody>\n",
       "</table>\n",
       "</div>"
      ],
      "text/plain": [
       "   count(1)  avg(months)  avg(no_loan_months)  avg(paid_off_months)  \\\n",
       "0      6086    23.221328            95.631171              1.582404   \n",
       "1      5196    17.255581            46.810659              1.442542   \n",
       "2      7258    24.021494             3.346580             47.574898   \n",
       "3     12914    33.195911             3.387015             80.069743   \n",
       "4     14336    14.488770             6.007811              1.984874   \n",
       "\n",
       "   avg(due_months)  prediction  \n",
       "0         2.786425           1  \n",
       "1        51.746799           3  \n",
       "2        49.078522           4  \n",
       "3        16.543242           2  \n",
       "4        92.007315           0  "
      ]
     },
     "execution_count": 28,
     "metadata": {},
     "output_type": "execute_result"
    }
   ],
   "source": [
    "# register a corresponding query table\n",
    "predictions.createOrReplaceTempView('percentage_due_months')\n",
    "# Statistics by mean of number of months, no loan months, paid off months and number of past due months on clusters\n",
    "df_percentage_due_months = spark.sql(\"select count(*), avg(months), avg(no_loan_months), avg(paid_off_months), \\\n",
    "                                      avg(due_months), prediction from percentage_due_months group by prediction\")\n",
    "df_percentage_due_months.toPandas()"
   ]
  },
  {
   "cell_type": "markdown",
   "id": "9993d399",
   "metadata": {},
   "source": [
    "### Analysis of first clustering result: ###\n",
    "The above result show that:\n",
    "* The cluster with prediction = 2 is the best clients because they have the highest percentage of paid-off of months with 80% and low percentage of past due months (16.5%)\n",
    "* The cluster with prediction = 1 is the client of \"no loan\" months, they are not bad\n",
    "* The clusters with prediction = 0 or 3 or 4 are the clients of bad suspicion because they have low percentage of paid-off months and high past due months. So we filter these clusters to perform again clustering in second step to get the bad clients."
   ]
  },
  {
   "cell_type": "markdown",
   "id": "fb98f473",
   "metadata": {},
   "source": [
    "### Second Clustering: Determine the bad clients ###"
   ]
  },
  {
   "cell_type": "code",
   "execution_count": 29,
   "id": "1096998d",
   "metadata": {},
   "outputs": [],
   "source": [
    "# Determine the bad suspicion clients\n",
    "df_bad_suspicion = spark.sql(\"select * from percentage_due_months where prediction in (0,3,4)\")\n",
    "# Drop prediction column\n",
    "df_bad_suspicion = df_bad_suspicion.drop(*['prediction'])"
   ]
  },
  {
   "cell_type": "code",
   "execution_count": 30,
   "id": "af34d8ad",
   "metadata": {},
   "outputs": [
    {
     "name": "stderr",
     "output_type": "stream",
     "text": [
      "[Stage 815:==============================================>     (180 + 11) / 200]\r"
     ]
    },
    {
     "name": "stdout",
     "output_type": "stream",
     "text": [
      "Silhouette with squared euclidean distance = 0.9332107415162147\n"
     ]
    },
    {
     "name": "stderr",
     "output_type": "stream",
     "text": [
      "\r",
      "[Stage 824:===================================================> (193 + 7) / 200]\r",
      "\r",
      "                                                                                \r"
     ]
    }
   ],
   "source": [
    "# Dertermine the features to analysis\n",
    "# In this step, we will the length debt of clients to analyze such as one due month, two due months,\n",
    "# three due months, four due months and five due months\n",
    "vectorAssembler = VectorAssembler(inputCols=[\"one_due_month\",\"two_due_months\",\"three_due_months\",\\\n",
    "                                             \"four_due_months\",\"five_due_months\"],\n",
    "                                  outputCol=\"features\")\n",
    "\n",
    "# Clustering clients by length debt\n",
    "pred_length_debt = clustering_clients(df_bad_suspicion,vectorAssembler)"
   ]
  },
  {
   "cell_type": "code",
   "execution_count": 31,
   "id": "7ae801ba",
   "metadata": {},
   "outputs": [
    {
     "name": "stderr",
     "output_type": "stream",
     "text": [
      "                                                                                \r"
     ]
    },
    {
     "data": {
      "text/html": [
       "<div>\n",
       "<style scoped>\n",
       "    .dataframe tbody tr th:only-of-type {\n",
       "        vertical-align: middle;\n",
       "    }\n",
       "\n",
       "    .dataframe tbody tr th {\n",
       "        vertical-align: top;\n",
       "    }\n",
       "\n",
       "    .dataframe thead th {\n",
       "        text-align: right;\n",
       "    }\n",
       "</style>\n",
       "<table border=\"1\" class=\"dataframe\">\n",
       "  <thead>\n",
       "    <tr style=\"text-align: right;\">\n",
       "      <th></th>\n",
       "      <th>count(1)</th>\n",
       "      <th>avg(due_months)</th>\n",
       "      <th>avg(one_due_month)</th>\n",
       "      <th>avg(two_due_months)</th>\n",
       "      <th>avg(three_due_months)</th>\n",
       "      <th>avg(four_due_months)</th>\n",
       "      <th>avg(five_due_months)</th>\n",
       "      <th>prediction</th>\n",
       "    </tr>\n",
       "  </thead>\n",
       "  <tbody>\n",
       "    <tr>\n",
       "      <th>0</th>\n",
       "      <td>1097</td>\n",
       "      <td>74.011141</td>\n",
       "      <td>76.396173</td>\n",
       "      <td>22.484859</td>\n",
       "      <td>0.798537</td>\n",
       "      <td>0.192459</td>\n",
       "      <td>0.127973</td>\n",
       "      <td>1</td>\n",
       "    </tr>\n",
       "    <tr>\n",
       "      <th>1</th>\n",
       "      <td>1982</td>\n",
       "      <td>73.884898</td>\n",
       "      <td>90.076700</td>\n",
       "      <td>9.432548</td>\n",
       "      <td>0.383413</td>\n",
       "      <td>0.080976</td>\n",
       "      <td>0.026363</td>\n",
       "      <td>3</td>\n",
       "    </tr>\n",
       "    <tr>\n",
       "      <th>2</th>\n",
       "      <td>79</td>\n",
       "      <td>65.095425</td>\n",
       "      <td>19.874252</td>\n",
       "      <td>75.726436</td>\n",
       "      <td>3.645235</td>\n",
       "      <td>0.595849</td>\n",
       "      <td>0.158228</td>\n",
       "      <td>4</td>\n",
       "    </tr>\n",
       "    <tr>\n",
       "      <th>3</th>\n",
       "      <td>381</td>\n",
       "      <td>73.551832</td>\n",
       "      <td>52.233300</td>\n",
       "      <td>43.333059</td>\n",
       "      <td>3.457176</td>\n",
       "      <td>0.730766</td>\n",
       "      <td>0.245698</td>\n",
       "      <td>2</td>\n",
       "    </tr>\n",
       "    <tr>\n",
       "      <th>4</th>\n",
       "      <td>23251</td>\n",
       "      <td>72.397285</td>\n",
       "      <td>99.916587</td>\n",
       "      <td>0.075423</td>\n",
       "      <td>0.007487</td>\n",
       "      <td>0.000502</td>\n",
       "      <td>0.000000</td>\n",
       "      <td>0</td>\n",
       "    </tr>\n",
       "  </tbody>\n",
       "</table>\n",
       "</div>"
      ],
      "text/plain": [
       "   count(1)  avg(due_months)  avg(one_due_month)  avg(two_due_months)  \\\n",
       "0      1097        74.011141           76.396173            22.484859   \n",
       "1      1982        73.884898           90.076700             9.432548   \n",
       "2        79        65.095425           19.874252            75.726436   \n",
       "3       381        73.551832           52.233300            43.333059   \n",
       "4     23251        72.397285           99.916587             0.075423   \n",
       "\n",
       "   avg(three_due_months)  avg(four_due_months)  avg(five_due_months)  \\\n",
       "0               0.798537              0.192459              0.127973   \n",
       "1               0.383413              0.080976              0.026363   \n",
       "2               3.645235              0.595849              0.158228   \n",
       "3               3.457176              0.730766              0.245698   \n",
       "4               0.007487              0.000502              0.000000   \n",
       "\n",
       "   prediction  \n",
       "0           1  \n",
       "1           3  \n",
       "2           4  \n",
       "3           2  \n",
       "4           0  "
      ]
     },
     "execution_count": 31,
     "metadata": {},
     "output_type": "execute_result"
    }
   ],
   "source": [
    "# register a corresponding query table\n",
    "pred_length_debt.createOrReplaceTempView('length_debt')\n",
    "# Statistics by mean of past due of months, one due month, two due months, three due months, four due months and\n",
    "# five due months\n",
    "df_length_debt = spark.sql(\"select count(*), avg(due_months),\\\n",
    "                              avg(one_due_month), avg(two_due_months), avg(three_due_months),\\\n",
    "                              avg(four_due_months), avg(five_due_months), prediction \\\n",
    "                              from length_debt group by prediction\")\n",
    "df_length_debt.toPandas()"
   ]
  },
  {
   "cell_type": "markdown",
   "id": "f66be786",
   "metadata": {},
   "source": [
    "### Analysis of second clustering result: ###\n",
    "* The cluster with prediction = 0 is not bad, they are main customers of the system. They almost paid off the loan in one due month with 99.9%\n",
    "* The other clusters are bad, their repayment extends into the 2nd and 3rd months... So we determine them bad customers."
   ]
  },
  {
   "cell_type": "code",
   "execution_count": 32,
   "id": "03ff8049",
   "metadata": {},
   "outputs": [],
   "source": [
    "# Filter the bad customers\n",
    "df_bad_length_debt_clients = spark.sql(\"select ID from length_debt where prediction!=0\")"
   ]
  },
  {
   "cell_type": "code",
   "execution_count": 33,
   "id": "001800f4",
   "metadata": {},
   "outputs": [],
   "source": [
    "# The overdue customers are also bad customers, so we will filter them.\n",
    "df_overdue_months = spark.sql(\"select ID from credit_record \\\n",
    "                                    where STATUS=='5' group by ID\")"
   ]
  },
  {
   "cell_type": "code",
   "execution_count": 34,
   "id": "3989dc27",
   "metadata": {},
   "outputs": [],
   "source": [
    "# Determine the list of full bad clients.\n",
    "df_bad_clients = df_overdue_months.union(df_bad_length_debt_clients).dropDuplicates()"
   ]
  },
  {
   "cell_type": "code",
   "execution_count": 35,
   "id": "d39e68f9",
   "metadata": {},
   "outputs": [],
   "source": [
    "# We assign the bad clients to Class = 0 \n",
    "df_bad_clients = df_bad_clients.withColumn(\"Class\",lit(0))"
   ]
  },
  {
   "cell_type": "code",
   "execution_count": 36,
   "id": "f4868fac",
   "metadata": {},
   "outputs": [],
   "source": [
    "# Get list ID of all clients in credit_record table\n",
    "df_all_clients = spark.sql(\"select distinct(ID) from credit_record group by ID\")"
   ]
  },
  {
   "cell_type": "code",
   "execution_count": 37,
   "id": "a1d45a96",
   "metadata": {},
   "outputs": [],
   "source": [
    "# Join labeled bad clients to all clients list\n",
    "df_all_clients = df_all_clients.join(df_bad_clients, df_all_clients.ID == df_bad_clients.ID, 'outer')\\\n",
    ".select(df_all_clients.ID, df_bad_clients.Class) "
   ]
  },
  {
   "cell_type": "code",
   "execution_count": 38,
   "id": "ba811fb4",
   "metadata": {},
   "outputs": [
    {
     "name": "stderr",
     "output_type": "stream",
     "text": [
      "                                                                                \r"
     ]
    },
    {
     "data": {
      "text/html": [
       "<div>\n",
       "<style scoped>\n",
       "    .dataframe tbody tr th:only-of-type {\n",
       "        vertical-align: middle;\n",
       "    }\n",
       "\n",
       "    .dataframe tbody tr th {\n",
       "        vertical-align: top;\n",
       "    }\n",
       "\n",
       "    .dataframe thead th {\n",
       "        text-align: right;\n",
       "    }\n",
       "</style>\n",
       "<table border=\"1\" class=\"dataframe\">\n",
       "  <thead>\n",
       "    <tr style=\"text-align: right;\">\n",
       "      <th></th>\n",
       "      <th>ID</th>\n",
       "      <th>Class</th>\n",
       "    </tr>\n",
       "  </thead>\n",
       "  <tbody>\n",
       "    <tr>\n",
       "      <th>0</th>\n",
       "      <td>5001858</td>\n",
       "      <td>1</td>\n",
       "    </tr>\n",
       "    <tr>\n",
       "      <th>1</th>\n",
       "      <td>5002083</td>\n",
       "      <td>1</td>\n",
       "    </tr>\n",
       "    <tr>\n",
       "      <th>2</th>\n",
       "      <td>5002574</td>\n",
       "      <td>1</td>\n",
       "    </tr>\n",
       "    <tr>\n",
       "      <th>3</th>\n",
       "      <td>5003166</td>\n",
       "      <td>1</td>\n",
       "    </tr>\n",
       "    <tr>\n",
       "      <th>4</th>\n",
       "      <td>5003224</td>\n",
       "      <td>1</td>\n",
       "    </tr>\n",
       "    <tr>\n",
       "      <th>...</th>\n",
       "      <td>...</td>\n",
       "      <td>...</td>\n",
       "    </tr>\n",
       "    <tr>\n",
       "      <th>45980</th>\n",
       "      <td>5149364</td>\n",
       "      <td>1</td>\n",
       "    </tr>\n",
       "    <tr>\n",
       "      <th>45981</th>\n",
       "      <td>5149472</td>\n",
       "      <td>1</td>\n",
       "    </tr>\n",
       "    <tr>\n",
       "      <th>45982</th>\n",
       "      <td>5149651</td>\n",
       "      <td>1</td>\n",
       "    </tr>\n",
       "    <tr>\n",
       "      <th>45983</th>\n",
       "      <td>5149870</td>\n",
       "      <td>1</td>\n",
       "    </tr>\n",
       "    <tr>\n",
       "      <th>45984</th>\n",
       "      <td>5149876</td>\n",
       "      <td>1</td>\n",
       "    </tr>\n",
       "  </tbody>\n",
       "</table>\n",
       "<p>45985 rows × 2 columns</p>\n",
       "</div>"
      ],
      "text/plain": [
       "            ID  Class\n",
       "0      5001858      1\n",
       "1      5002083      1\n",
       "2      5002574      1\n",
       "3      5003166      1\n",
       "4      5003224      1\n",
       "...        ...    ...\n",
       "45980  5149364      1\n",
       "45981  5149472      1\n",
       "45982  5149651      1\n",
       "45983  5149870      1\n",
       "45984  5149876      1\n",
       "\n",
       "[45985 rows x 2 columns]"
      ]
     },
     "execution_count": 38,
     "metadata": {},
     "output_type": "execute_result"
    }
   ],
   "source": [
    "# Assign the NaN value in Class column to 1 for good clients.\n",
    "df_all_clients = df_all_clients.na.fill(value=1)\n",
    "df_all_clients.toPandas()"
   ]
  },
  {
   "cell_type": "markdown",
   "id": "218ddf7e",
   "metadata": {},
   "source": [
    "### Important Note ###\n",
    "We determined a labeled list of clients through credit_record.csv file, now we will join this list with the list of application records to get a full list of labeled simples. These simples are the input to build a machine learning model to predict if an applicant is 'good' or 'bad' client."
   ]
  },
  {
   "cell_type": "code",
   "execution_count": 39,
   "id": "90965da9",
   "metadata": {},
   "outputs": [],
   "source": [
    "customShema = StructType([StructField('ID', IntegerType(), False),\n",
    "                          StructField('CODE_GENDER', StringType(), True),\n",
    "                          StructField('FLAG_OWN_CAR', StringType(), True),\n",
    "                          StructField('FLAG_OWN_REALTY', StringType(), True),\n",
    "                          StructField('CNT_CHILDREN', IntegerType(), True),\n",
    "                          StructField('AMT_INCOME_TOTAL', DoubleType(), True),\n",
    "                          StructField('NAME_INCOME_TYPE', StringType(), True),\n",
    "                          StructField('NAME_EDUCATION_TYPE', StringType(), True),\n",
    "                          StructField('NAME_FAMILY_STATUS', StringType(), True),\n",
    "                          StructField('NAME_HOUSING_TYPE', StringType(), True),\n",
    "                          StructField('DAYS_BIRTH', IntegerType(), True),\n",
    "                          StructField('DAYS_EMPLOYED', IntegerType(), True),\n",
    "                          StructField('FLAG_MOBIL', IntegerType(), True),\n",
    "                          StructField('FLAG_WORK_PHONE', IntegerType(), True),\n",
    "                          StructField('FLAG_PHONE', IntegerType(), True),\n",
    "                          StructField('FLAG_EMAIL', IntegerType(), True),\n",
    "                          StructField('OCCUPATION_TYPE', StringType(), True),\n",
    "                          StructField('CNT_FAM_MEMBERS', FloatType(), True)\n",
    "                          ])"
   ]
  },
  {
   "cell_type": "code",
   "execution_count": 40,
   "id": "b7624298",
   "metadata": {},
   "outputs": [],
   "source": [
    "df_applicants = spark.read.format(\"csv\").option(\"header\", \"true\")\\\n",
    "                                        .option(\"delimiter\", \",\")\\\n",
    "                                        .schema(customShema).load(\"application_record.csv\")"
   ]
  },
  {
   "cell_type": "code",
   "execution_count": 41,
   "id": "25dea264",
   "metadata": {},
   "outputs": [
    {
     "name": "stderr",
     "output_type": "stream",
     "text": [
      "[Stage 869:==============>                                          (2 + 6) / 8]\r"
     ]
    },
    {
     "name": "stdout",
     "output_type": "stream",
     "text": [
      "+-------+-----------+------------+---------------+-------------------+------------------+\n",
      "|summary|CODE_GENDER|FLAG_OWN_CAR|FLAG_OWN_REALTY|       CNT_CHILDREN|  AMT_INCOME_TOTAL|\n",
      "+-------+-----------+------------+---------------+-------------------+------------------+\n",
      "|  count|     438557|      438557|         438557|             438557|            438557|\n",
      "|   mean|       null|        null|           null|0.42739028222101116| 187524.2860095039|\n",
      "| stddev|       null|        null|           null|  0.724882213552147|110086.85306622912|\n",
      "|    min|          F|           N|              N|                  0|           26100.0|\n",
      "|    max|          M|           Y|              Y|                 19|         6750000.0|\n",
      "+-------+-----------+------------+---------------+-------------------+------------------+\n",
      "\n"
     ]
    },
    {
     "name": "stderr",
     "output_type": "stream",
     "text": [
      "\r",
      "                                                                                \r"
     ]
    }
   ],
   "source": [
    "df_applicants.describe('CODE_GENDER','FLAG_OWN_CAR','FLAG_OWN_REALTY','CNT_CHILDREN','AMT_INCOME_TOTAL').show()"
   ]
  },
  {
   "cell_type": "code",
   "execution_count": 42,
   "id": "8334668e",
   "metadata": {},
   "outputs": [
    {
     "name": "stderr",
     "output_type": "stream",
     "text": [
      "[Stage 871:=======>                                                 (1 + 7) / 8]\r"
     ]
    },
    {
     "name": "stdout",
     "output_type": "stream",
     "text": [
      "+-------+--------------------+--------------------+------------------+-----------------+-------------------+\n",
      "|summary|    NAME_INCOME_TYPE| NAME_EDUCATION_TYPE|NAME_FAMILY_STATUS|NAME_HOUSING_TYPE|         DAYS_BIRTH|\n",
      "+-------+--------------------+--------------------+------------------+-----------------+-------------------+\n",
      "|  count|              438557|              438557|            438557|           438557|             438557|\n",
      "|   mean|                null|                null|              null|             null|-15997.904648654565|\n",
      "| stddev|                null|                null|              null|             null|  4185.030006794093|\n",
      "|    min|Commercial associate|     Academic degree|    Civil marriage|  Co-op apartment|             -25201|\n",
      "|    max|             Working|Secondary / secon...|             Widow|     With parents|              -7489|\n",
      "+-------+--------------------+--------------------+------------------+-----------------+-------------------+\n",
      "\n"
     ]
    },
    {
     "name": "stderr",
     "output_type": "stream",
     "text": [
      "\r",
      "                                                                                \r"
     ]
    }
   ],
   "source": [
    "df_applicants.describe('NAME_INCOME_TYPE','NAME_EDUCATION_TYPE','NAME_FAMILY_STATUS','NAME_HOUSING_TYPE','DAYS_BIRTH'\\\n",
    "                    ).show()"
   ]
  },
  {
   "cell_type": "code",
   "execution_count": 43,
   "id": "74e461bf",
   "metadata": {},
   "outputs": [
    {
     "name": "stdout",
     "output_type": "stream",
     "text": [
      "+-------+------------------+----------+-------------------+-------------------+-------------------+\n",
      "|summary|     DAYS_EMPLOYED|FLAG_MOBIL|    FLAG_WORK_PHONE|         FLAG_PHONE|         FLAG_EMAIL|\n",
      "+-------+------------------+----------+-------------------+-------------------+-------------------+\n",
      "|  count|            438557|    438557|             438557|             438557|             438557|\n",
      "|   mean| 60563.67532840657|       1.0| 0.2061328402009317|0.28777103090362255|0.10820714297115312|\n",
      "| stddev|138767.79964666892|       0.0|0.40452745955008695|0.45272434441461806|0.31064220128266806|\n",
      "|    min|            -17531|         1|                  0|                  0|                  0|\n",
      "|    max|            365243|         1|                  1|                  1|                  1|\n",
      "+-------+------------------+----------+-------------------+-------------------+-------------------+\n",
      "\n"
     ]
    }
   ],
   "source": [
    "df_applicants.describe('DAYS_EMPLOYED','FLAG_MOBIL','FLAG_WORK_PHONE','FLAG_PHONE','FLAG_EMAIL').show()"
   ]
  },
  {
   "cell_type": "code",
   "execution_count": 44,
   "id": "58b98fc2",
   "metadata": {},
   "outputs": [],
   "source": [
    "df_unemployment = df_applicants.filter(\"DAYS_EMPLOYED==365243\")"
   ]
  },
  {
   "cell_type": "code",
   "execution_count": 45,
   "id": "8dbf704e",
   "metadata": {
    "scrolled": true
   },
   "outputs": [
    {
     "name": "stdout",
     "output_type": "stream",
     "text": [
      "+---------------+-----+\n",
      "|OCCUPATION_TYPE|count|\n",
      "+---------------+-----+\n",
      "|           null|75329|\n",
      "+---------------+-----+\n",
      "\n"
     ]
    }
   ],
   "source": [
    "df_unemployment.groupby(\"OCCUPATION_TYPE\").count().show()"
   ]
  },
  {
   "cell_type": "code",
   "execution_count": 46,
   "id": "3112fa88",
   "metadata": {},
   "outputs": [
    {
     "name": "stdout",
     "output_type": "stream",
     "text": [
      "+-------+-------------------+\n",
      "|summary|      DAYS_EMPLOYED|\n",
      "+-------+-------------------+\n",
      "|  count|             363228|\n",
      "|   mean|-2623.0526996817425|\n",
      "| stddev|  2399.514253151732|\n",
      "|    min|             -17531|\n",
      "|    max|                -12|\n",
      "+-------+-------------------+\n",
      "\n"
     ]
    }
   ],
   "source": [
    "df_days_employed = df_applicants.filter(\"DAYS_EMPLOYED!=365243\").select('DAYS_EMPLOYED')\n",
    "df_days_employed.describe().show()"
   ]
  },
  {
   "cell_type": "code",
   "execution_count": 47,
   "id": "d1e9568a",
   "metadata": {},
   "outputs": [
    {
     "name": "stdout",
     "output_type": "stream",
     "text": [
      "-2623.0526996817425\n"
     ]
    }
   ],
   "source": [
    "mean_value = df_days_employed.agg({'DAYS_EMPLOYED': 'avg'}).collect()[0][0]\n",
    "print(mean_value)"
   ]
  },
  {
   "cell_type": "code",
   "execution_count": 48,
   "id": "909a74e0",
   "metadata": {},
   "outputs": [
    {
     "name": "stdout",
     "output_type": "stream",
     "text": [
      "+-------------+-----+\n",
      "|DAYS_EMPLOYED|count|\n",
      "+-------------+-----+\n",
      "|         -218|  262|\n",
      "|        -1678|  251|\n",
      "|         -249|  241|\n",
      "|         -978|  240|\n",
      "|         -430|  238|\n",
      "|         -209|  231|\n",
      "|         -231|  231|\n",
      "|         -232|  228|\n",
      "|        -2317|  226|\n",
      "|         -302|  224|\n",
      "|         -187|  223|\n",
      "|        -2514|  223|\n",
      "|         -179|  222|\n",
      "|         -270|  221|\n",
      "|        -1672|  218|\n",
      "|         -238|  217|\n",
      "|         -116|  215|\n",
      "|         -795|  212|\n",
      "|         -217|  211|\n",
      "|         -186|  210|\n",
      "+-------------+-----+\n",
      "only showing top 20 rows\n",
      "\n"
     ]
    }
   ],
   "source": [
    "df_count = df_days_employed.groupby('DAYS_EMPLOYED').count()\n",
    "df_count = df_count.sort(desc(\"count\"))\n",
    "df_count.show()"
   ]
  },
  {
   "cell_type": "code",
   "execution_count": 49,
   "id": "ac4a3f15",
   "metadata": {},
   "outputs": [
    {
     "name": "stderr",
     "output_type": "stream",
     "text": [
      "[Stage 894:====================================================>(197 + 3) / 200]\r"
     ]
    },
    {
     "name": "stdout",
     "output_type": "stream",
     "text": [
      "262\n"
     ]
    },
    {
     "name": "stderr",
     "output_type": "stream",
     "text": [
      "\r",
      "                                                                                \r"
     ]
    }
   ],
   "source": [
    "most_value = df_count.collect()[0][1]\n",
    "print(most_value)"
   ]
  },
  {
   "cell_type": "code",
   "execution_count": 50,
   "id": "e6f7b98c",
   "metadata": {},
   "outputs": [
    {
     "name": "stdout",
     "output_type": "stream",
     "text": [
      "-2400.0\n"
     ]
    }
   ],
   "source": [
    "median = df_days_employed.approxQuantile('DAYS_EMPLOYED',[0.5],0.1)[0]\n",
    "print(median)"
   ]
  },
  {
   "cell_type": "code",
   "execution_count": 51,
   "id": "4adea751",
   "metadata": {},
   "outputs": [],
   "source": [
    "df_applicants = df_applicants.withColumn(\"DAYS_EMPLOYED\", when(col(\"DAYS_EMPLOYED\")==365243, median)\\\n",
    "                                         .otherwise(col(\"DAYS_EMPLOYED\")))"
   ]
  },
  {
   "cell_type": "code",
   "execution_count": 52,
   "id": "8ce4513e",
   "metadata": {},
   "outputs": [
    {
     "name": "stdout",
     "output_type": "stream",
     "text": [
      "+-------+-------------------+\n",
      "|summary|      DAYS_EMPLOYED|\n",
      "+-------+-------------------+\n",
      "|  count|             438557|\n",
      "|   mean|-2584.7399220625825|\n",
      "| stddev| 2185.3546584408764|\n",
      "|    min|           -17531.0|\n",
      "|    max|              -12.0|\n",
      "+-------+-------------------+\n",
      "\n"
     ]
    }
   ],
   "source": [
    "df_applicants.describe('DAYS_EMPLOYED').show()"
   ]
  },
  {
   "cell_type": "code",
   "execution_count": 53,
   "id": "ff95f451",
   "metadata": {},
   "outputs": [
    {
     "name": "stdout",
     "output_type": "stream",
     "text": [
      "+-------+--------------------+------------------+\n",
      "|summary|     OCCUPATION_TYPE|   CNT_FAM_MEMBERS|\n",
      "+-------+--------------------+------------------+\n",
      "|  count|              304354|            438557|\n",
      "|   mean|                null| 2.194465029631268|\n",
      "| stddev|                null|0.8972073300563004|\n",
      "|    min|         Accountants|               1.0|\n",
      "|    max|Waiters/barmen staff|              20.0|\n",
      "+-------+--------------------+------------------+\n",
      "\n"
     ]
    },
    {
     "name": "stderr",
     "output_type": "stream",
     "text": [
      "\r",
      "[Stage 900:=======>                                                 (1 + 7) / 8]\r",
      "\r",
      "                                                                                \r"
     ]
    }
   ],
   "source": [
    "df_applicants.describe('OCCUPATION_TYPE','CNT_FAM_MEMBERS').show()"
   ]
  },
  {
   "cell_type": "code",
   "execution_count": 54,
   "id": "71c965b7",
   "metadata": {},
   "outputs": [],
   "source": [
    "# Join the list of labeled clients with the list of applicants to get a full list of labeled simples.\n",
    "df_simples = df_applicants.join(df_all_clients, df_applicants.ID == df_all_clients.ID,'inner')\\\n",
    "                                    .select(df_applicants['*'],df_all_clients['Class'])"
   ]
  },
  {
   "cell_type": "code",
   "execution_count": 55,
   "id": "b474943f",
   "metadata": {},
   "outputs": [
    {
     "data": {
      "text/plain": [
       "\"\\n# Cast type of 'AMT_INCOME_TOTAL'column from Double to Integer\\ndf_simples = df_simples.withColumn('AMT_INCOME_TOTAL', df_simples['AMT_INCOME_TOTAL'].cast(IntegerType()))\\n# Cast type of 'CNT_FAM_MEMBERS'column from Float to Integer\\ndf_simples = df_simples.withColumn('CNT_FAM_MEMBERS', df_simples['CNT_FAM_MEMBERS'].cast(IntegerType()))\\n\""
      ]
     },
     "execution_count": 55,
     "metadata": {},
     "output_type": "execute_result"
    }
   ],
   "source": [
    "'''\n",
    "# Cast type of 'AMT_INCOME_TOTAL'column from Double to Integer\n",
    "df_simples = df_simples.withColumn('AMT_INCOME_TOTAL', df_simples['AMT_INCOME_TOTAL'].cast(IntegerType()))\n",
    "# Cast type of 'CNT_FAM_MEMBERS'column from Float to Integer\n",
    "df_simples = df_simples.withColumn('CNT_FAM_MEMBERS', df_simples['CNT_FAM_MEMBERS'].cast(IntegerType()))\n",
    "'''\n"
   ]
  },
  {
   "cell_type": "code",
   "execution_count": 56,
   "id": "d807e186",
   "metadata": {},
   "outputs": [
    {
     "name": "stderr",
     "output_type": "stream",
     "text": [
      "                                                                                \r"
     ]
    },
    {
     "data": {
      "text/html": [
       "<div>\n",
       "<style scoped>\n",
       "    .dataframe tbody tr th:only-of-type {\n",
       "        vertical-align: middle;\n",
       "    }\n",
       "\n",
       "    .dataframe tbody tr th {\n",
       "        vertical-align: top;\n",
       "    }\n",
       "\n",
       "    .dataframe thead th {\n",
       "        text-align: right;\n",
       "    }\n",
       "</style>\n",
       "<table border=\"1\" class=\"dataframe\">\n",
       "  <thead>\n",
       "    <tr style=\"text-align: right;\">\n",
       "      <th></th>\n",
       "      <th>ID</th>\n",
       "      <th>CODE_GENDER</th>\n",
       "      <th>FLAG_OWN_CAR</th>\n",
       "      <th>FLAG_OWN_REALTY</th>\n",
       "      <th>CNT_CHILDREN</th>\n",
       "      <th>AMT_INCOME_TOTAL</th>\n",
       "      <th>NAME_INCOME_TYPE</th>\n",
       "      <th>NAME_EDUCATION_TYPE</th>\n",
       "      <th>NAME_FAMILY_STATUS</th>\n",
       "      <th>NAME_HOUSING_TYPE</th>\n",
       "      <th>DAYS_BIRTH</th>\n",
       "      <th>DAYS_EMPLOYED</th>\n",
       "      <th>FLAG_MOBIL</th>\n",
       "      <th>FLAG_WORK_PHONE</th>\n",
       "      <th>FLAG_PHONE</th>\n",
       "      <th>FLAG_EMAIL</th>\n",
       "      <th>OCCUPATION_TYPE</th>\n",
       "      <th>CNT_FAM_MEMBERS</th>\n",
       "      <th>Class</th>\n",
       "    </tr>\n",
       "  </thead>\n",
       "  <tbody>\n",
       "    <tr>\n",
       "      <th>0</th>\n",
       "      <td>5009033</td>\n",
       "      <td>F</td>\n",
       "      <td>N</td>\n",
       "      <td>N</td>\n",
       "      <td>0</td>\n",
       "      <td>255150.0</td>\n",
       "      <td>Pensioner</td>\n",
       "      <td>Incomplete higher</td>\n",
       "      <td>Civil marriage</td>\n",
       "      <td>Rented apartment</td>\n",
       "      <td>-18682</td>\n",
       "      <td>-2400.0</td>\n",
       "      <td>1</td>\n",
       "      <td>0</td>\n",
       "      <td>0</td>\n",
       "      <td>0</td>\n",
       "      <td>None</td>\n",
       "      <td>2.0</td>\n",
       "      <td>1</td>\n",
       "    </tr>\n",
       "    <tr>\n",
       "      <th>1</th>\n",
       "      <td>5009304</td>\n",
       "      <td>F</td>\n",
       "      <td>N</td>\n",
       "      <td>N</td>\n",
       "      <td>0</td>\n",
       "      <td>112500.0</td>\n",
       "      <td>Pensioner</td>\n",
       "      <td>Secondary / secondary special</td>\n",
       "      <td>Widow</td>\n",
       "      <td>House / apartment</td>\n",
       "      <td>-22061</td>\n",
       "      <td>-2400.0</td>\n",
       "      <td>1</td>\n",
       "      <td>0</td>\n",
       "      <td>0</td>\n",
       "      <td>0</td>\n",
       "      <td>None</td>\n",
       "      <td>1.0</td>\n",
       "      <td>1</td>\n",
       "    </tr>\n",
       "    <tr>\n",
       "      <th>2</th>\n",
       "      <td>5009355</td>\n",
       "      <td>F</td>\n",
       "      <td>N</td>\n",
       "      <td>N</td>\n",
       "      <td>0</td>\n",
       "      <td>135000.0</td>\n",
       "      <td>Commercial associate</td>\n",
       "      <td>Secondary / secondary special</td>\n",
       "      <td>Married</td>\n",
       "      <td>House / apartment</td>\n",
       "      <td>-19692</td>\n",
       "      <td>-5273.0</td>\n",
       "      <td>1</td>\n",
       "      <td>1</td>\n",
       "      <td>1</td>\n",
       "      <td>0</td>\n",
       "      <td>Laborers</td>\n",
       "      <td>2.0</td>\n",
       "      <td>1</td>\n",
       "    </tr>\n",
       "    <tr>\n",
       "      <th>3</th>\n",
       "      <td>5009429</td>\n",
       "      <td>M</td>\n",
       "      <td>N</td>\n",
       "      <td>N</td>\n",
       "      <td>0</td>\n",
       "      <td>198000.0</td>\n",
       "      <td>Working</td>\n",
       "      <td>Secondary / secondary special</td>\n",
       "      <td>Single / not married</td>\n",
       "      <td>With parents</td>\n",
       "      <td>-8657</td>\n",
       "      <td>-1164.0</td>\n",
       "      <td>1</td>\n",
       "      <td>1</td>\n",
       "      <td>0</td>\n",
       "      <td>0</td>\n",
       "      <td>Laborers</td>\n",
       "      <td>1.0</td>\n",
       "      <td>1</td>\n",
       "    </tr>\n",
       "    <tr>\n",
       "      <th>4</th>\n",
       "      <td>5010070</td>\n",
       "      <td>F</td>\n",
       "      <td>N</td>\n",
       "      <td>Y</td>\n",
       "      <td>0</td>\n",
       "      <td>279000.0</td>\n",
       "      <td>State servant</td>\n",
       "      <td>Higher education</td>\n",
       "      <td>Single / not married</td>\n",
       "      <td>House / apartment</td>\n",
       "      <td>-11091</td>\n",
       "      <td>-617.0</td>\n",
       "      <td>1</td>\n",
       "      <td>0</td>\n",
       "      <td>0</td>\n",
       "      <td>1</td>\n",
       "      <td>Managers</td>\n",
       "      <td>1.0</td>\n",
       "      <td>1</td>\n",
       "    </tr>\n",
       "  </tbody>\n",
       "</table>\n",
       "</div>"
      ],
      "text/plain": [
       "        ID CODE_GENDER FLAG_OWN_CAR FLAG_OWN_REALTY  CNT_CHILDREN  \\\n",
       "0  5009033           F            N               N             0   \n",
       "1  5009304           F            N               N             0   \n",
       "2  5009355           F            N               N             0   \n",
       "3  5009429           M            N               N             0   \n",
       "4  5010070           F            N               Y             0   \n",
       "\n",
       "   AMT_INCOME_TOTAL      NAME_INCOME_TYPE            NAME_EDUCATION_TYPE  \\\n",
       "0          255150.0             Pensioner              Incomplete higher   \n",
       "1          112500.0             Pensioner  Secondary / secondary special   \n",
       "2          135000.0  Commercial associate  Secondary / secondary special   \n",
       "3          198000.0               Working  Secondary / secondary special   \n",
       "4          279000.0         State servant               Higher education   \n",
       "\n",
       "     NAME_FAMILY_STATUS  NAME_HOUSING_TYPE  DAYS_BIRTH  DAYS_EMPLOYED  \\\n",
       "0        Civil marriage   Rented apartment      -18682        -2400.0   \n",
       "1                 Widow  House / apartment      -22061        -2400.0   \n",
       "2               Married  House / apartment      -19692        -5273.0   \n",
       "3  Single / not married       With parents       -8657        -1164.0   \n",
       "4  Single / not married  House / apartment      -11091         -617.0   \n",
       "\n",
       "   FLAG_MOBIL  FLAG_WORK_PHONE  FLAG_PHONE  FLAG_EMAIL OCCUPATION_TYPE  \\\n",
       "0           1                0           0           0            None   \n",
       "1           1                0           0           0            None   \n",
       "2           1                1           1           0        Laborers   \n",
       "3           1                1           0           0        Laborers   \n",
       "4           1                0           0           1        Managers   \n",
       "\n",
       "   CNT_FAM_MEMBERS  Class  \n",
       "0              2.0      1  \n",
       "1              1.0      1  \n",
       "2              2.0      1  \n",
       "3              1.0      1  \n",
       "4              1.0      1  "
      ]
     },
     "execution_count": 56,
     "metadata": {},
     "output_type": "execute_result"
    }
   ],
   "source": [
    "df_simples.toPandas().head()"
   ]
  },
  {
   "cell_type": "code",
   "execution_count": 57,
   "id": "d8a9c21d",
   "metadata": {},
   "outputs": [
    {
     "name": "stderr",
     "output_type": "stream",
     "text": [
      "                                                                                \r"
     ]
    },
    {
     "name": "stdout",
     "output_type": "stream",
     "text": [
      "+-------+-----------+------------+---------------+-------------------+------------------+\n",
      "|summary|CODE_GENDER|FLAG_OWN_CAR|FLAG_OWN_REALTY|       CNT_CHILDREN|  AMT_INCOME_TOTAL|\n",
      "+-------+-----------+------------+---------------+-------------------+------------------+\n",
      "|  count|      36457|       36457|          36457|              36457|             36457|\n",
      "|   mean|       null|        null|           null|0.43031516581177826|186685.73666236937|\n",
      "| stddev|       null|        null|           null| 0.7423669007186845| 101789.2264823466|\n",
      "|    min|          F|           N|              N|                  0|           27000.0|\n",
      "|    max|          M|           Y|              Y|                 19|         1575000.0|\n",
      "+-------+-----------+------------+---------------+-------------------+------------------+\n",
      "\n"
     ]
    }
   ],
   "source": [
    "df_simples.describe('CODE_GENDER','FLAG_OWN_CAR','FLAG_OWN_REALTY','CNT_CHILDREN','AMT_INCOME_TOTAL').show()"
   ]
  },
  {
   "cell_type": "code",
   "execution_count": 58,
   "id": "6f67b7fe",
   "metadata": {},
   "outputs": [
    {
     "name": "stderr",
     "output_type": "stream",
     "text": [
      "                                                                                \r"
     ]
    },
    {
     "name": "stdout",
     "output_type": "stream",
     "text": [
      "+-------+--------------------+--------------------+------------------+-----------------+------------------+\n",
      "|summary|    NAME_INCOME_TYPE| NAME_EDUCATION_TYPE|NAME_FAMILY_STATUS|NAME_HOUSING_TYPE|        DAYS_BIRTH|\n",
      "+-------+--------------------+--------------------+------------------+-----------------+------------------+\n",
      "|  count|               36457|               36457|             36457|            36457|             36457|\n",
      "|   mean|                null|                null|              null|             null|-15975.17338234084|\n",
      "| stddev|                null|                null|              null|             null| 4200.549943759228|\n",
      "|    min|Commercial associate|     Academic degree|    Civil marriage|  Co-op apartment|            -25152|\n",
      "|    max|             Working|Secondary / secon...|             Widow|     With parents|             -7489|\n",
      "+-------+--------------------+--------------------+------------------+-----------------+------------------+\n",
      "\n"
     ]
    }
   ],
   "source": [
    "df_simples.describe('NAME_INCOME_TYPE','NAME_EDUCATION_TYPE','NAME_FAMILY_STATUS','NAME_HOUSING_TYPE','DAYS_BIRTH'\\\n",
    "                    ).show()"
   ]
  },
  {
   "cell_type": "code",
   "execution_count": 59,
   "id": "e22f2150",
   "metadata": {},
   "outputs": [
    {
     "name": "stderr",
     "output_type": "stream",
     "text": [
      "[Stage 997:========================================>            (309 + 8) / 400]\r"
     ]
    },
    {
     "name": "stdout",
     "output_type": "stream",
     "text": [
      "+-------+------------------+----------+-------------------+-------------------+-------------------+\n",
      "|summary|     DAYS_EMPLOYED|FLAG_MOBIL|    FLAG_WORK_PHONE|         FLAG_PHONE|         FLAG_EMAIL|\n",
      "+-------+------------------+----------+-------------------+-------------------+-------------------+\n",
      "|  count|             36457|     36457|              36457|              36457|              36457|\n",
      "|   mean|-2604.190224099624|       1.0|0.22552596209232795|0.29481306744932384|0.08972213840963326|\n",
      "| stddev| 2151.879301161289|       0.0|0.41793395842567826|0.45596493881592776| 0.2857871875724885|\n",
      "|    min|          -15713.0|         1|                  0|                  0|                  0|\n",
      "|    max|             -17.0|         1|                  1|                  1|                  1|\n",
      "+-------+------------------+----------+-------------------+-------------------+-------------------+\n",
      "\n"
     ]
    },
    {
     "name": "stderr",
     "output_type": "stream",
     "text": [
      "\r",
      "                                                                                \r"
     ]
    }
   ],
   "source": [
    "df_simples.describe('DAYS_EMPLOYED','FLAG_MOBIL','FLAG_WORK_PHONE','FLAG_PHONE','FLAG_EMAIL').show()"
   ]
  },
  {
   "cell_type": "code",
   "execution_count": 60,
   "id": "45c5884c",
   "metadata": {},
   "outputs": [
    {
     "name": "stderr",
     "output_type": "stream",
     "text": [
      "                                                                                \r"
     ]
    },
    {
     "name": "stdout",
     "output_type": "stream",
     "text": [
      "+-------+--------------------+------------------+\n",
      "|summary|     OCCUPATION_TYPE|   CNT_FAM_MEMBERS|\n",
      "+-------+--------------------+------------------+\n",
      "|  count|               25134|             36457|\n",
      "|   mean|                null| 2.198452971994404|\n",
      "| stddev|                null|0.9116861437101013|\n",
      "|    min|         Accountants|               1.0|\n",
      "|    max|Waiters/barmen staff|              20.0|\n",
      "+-------+--------------------+------------------+\n",
      "\n"
     ]
    }
   ],
   "source": [
    "df_simples.describe('OCCUPATION_TYPE','CNT_FAM_MEMBERS').show()"
   ]
  },
  {
   "cell_type": "code",
   "execution_count": 61,
   "id": "d6511480",
   "metadata": {},
   "outputs": [
    {
     "name": "stderr",
     "output_type": "stream",
     "text": [
      "                                                                                \r"
     ]
    },
    {
     "name": "stdout",
     "output_type": "stream",
     "text": [
      "+--------------------+-----+\n",
      "|     OCCUPATION_TYPE|count|\n",
      "+--------------------+-----+\n",
      "|                null|11323|\n",
      "|            Managers| 3012|\n",
      "|            HR staff|   85|\n",
      "|      Medicine staff| 1207|\n",
      "|         Accountants| 1241|\n",
      "|            Laborers| 6211|\n",
      "|      Cleaning staff|  551|\n",
      "|Private service s...|  344|\n",
      "|             Drivers| 2138|\n",
      "|         Sales staff| 3485|\n",
      "|       Realty agents|   79|\n",
      "|            IT staff|   60|\n",
      "|      Security staff|  592|\n",
      "|         Secretaries|  151|\n",
      "|  Low-skill Laborers|  175|\n",
      "|          Core staff| 3591|\n",
      "|       Cooking staff|  655|\n",
      "|High skill tech s...| 1383|\n",
      "|Waiters/barmen staff|  174|\n",
      "+--------------------+-----+\n",
      "\n"
     ]
    }
   ],
   "source": [
    "df_simples.groupby('OCCUPATION_TYPE').count().show()"
   ]
  },
  {
   "cell_type": "code",
   "execution_count": 62,
   "id": "ed70c0e6",
   "metadata": {},
   "outputs": [],
   "source": [
    "# Replace null value to 'Unknown' value in \"OCCUPATION_TYPE\" column\n",
    "df_simples = df_simples.withColumn(\"OCCUPATION_TYPE\", when(col(\"OCCUPATION_TYPE\").isNull(),\\\n",
    "                                                'Unknown').otherwise(col(\"OCCUPATION_TYPE\")))"
   ]
  },
  {
   "cell_type": "code",
   "execution_count": 63,
   "id": "0904242a",
   "metadata": {},
   "outputs": [
    {
     "name": "stderr",
     "output_type": "stream",
     "text": [
      "                                                                                \r"
     ]
    },
    {
     "name": "stdout",
     "output_type": "stream",
     "text": [
      "+-------------------+-----+\n",
      "|  NAME_HOUSING_TYPE|count|\n",
      "+-------------------+-----+\n",
      "|  House / apartment|32548|\n",
      "|Municipal apartment| 1128|\n",
      "|    Co-op apartment|  168|\n",
      "|   Rented apartment|  575|\n",
      "|   Office apartment|  262|\n",
      "|       With parents| 1776|\n",
      "+-------------------+-----+\n",
      "\n"
     ]
    }
   ],
   "source": [
    "df_simples.groupby('NAME_HOUSING_TYPE').count().show()"
   ]
  },
  {
   "cell_type": "code",
   "execution_count": 64,
   "id": "481cc036",
   "metadata": {},
   "outputs": [
    {
     "name": "stderr",
     "output_type": "stream",
     "text": [
      "                                                                                \r"
     ]
    },
    {
     "name": "stdout",
     "output_type": "stream",
     "text": [
      "+--------------------+-----+\n",
      "|  NAME_FAMILY_STATUS|count|\n",
      "+--------------------+-----+\n",
      "|           Separated| 2103|\n",
      "|             Married|25048|\n",
      "|Single / not married| 4829|\n",
      "|               Widow| 1532|\n",
      "|      Civil marriage| 2945|\n",
      "+--------------------+-----+\n",
      "\n"
     ]
    }
   ],
   "source": [
    "df_simples.groupby('NAME_FAMILY_STATUS').count().show()"
   ]
  },
  {
   "cell_type": "code",
   "execution_count": 65,
   "id": "de76c2bd",
   "metadata": {},
   "outputs": [
    {
     "name": "stderr",
     "output_type": "stream",
     "text": [
      "                                                                                \r"
     ]
    },
    {
     "name": "stdout",
     "output_type": "stream",
     "text": [
      "+--------------------+-----+\n",
      "| NAME_EDUCATION_TYPE|count|\n",
      "+--------------------+-----+\n",
      "|     Academic degree|   32|\n",
      "|   Incomplete higher| 1410|\n",
      "|Secondary / secon...|24777|\n",
      "|     Lower secondary|  374|\n",
      "|    Higher education| 9864|\n",
      "+--------------------+-----+\n",
      "\n"
     ]
    }
   ],
   "source": [
    "df_simples.groupby('NAME_EDUCATION_TYPE').count().show()"
   ]
  },
  {
   "cell_type": "code",
   "execution_count": 66,
   "id": "bb49630f",
   "metadata": {},
   "outputs": [
    {
     "name": "stderr",
     "output_type": "stream",
     "text": [
      "                                                                                \r"
     ]
    },
    {
     "name": "stdout",
     "output_type": "stream",
     "text": [
      "+--------------------+-----+\n",
      "|    NAME_INCOME_TYPE|count|\n",
      "+--------------------+-----+\n",
      "|             Student|   11|\n",
      "|Commercial associate| 8490|\n",
      "|       State servant| 2985|\n",
      "|             Working|18819|\n",
      "|           Pensioner| 6152|\n",
      "+--------------------+-----+\n",
      "\n"
     ]
    }
   ],
   "source": [
    "df_simples.groupby('NAME_INCOME_TYPE').count().show()"
   ]
  },
  {
   "cell_type": "code",
   "execution_count": 67,
   "id": "7be6d736",
   "metadata": {},
   "outputs": [
    {
     "name": "stderr",
     "output_type": "stream",
     "text": [
      "                                                                                ]\r"
     ]
    }
   ],
   "source": [
    "df_simples.write.option(\"header\",True).csv(\"labeled_applicants\")"
   ]
  },
  {
   "cell_type": "markdown",
   "id": "1aa3307e",
   "metadata": {},
   "source": [
    "## Phase 2: Modeling and prediction ##\n",
    "\n"
   ]
  },
  {
   "cell_type": "code",
   "execution_count": 68,
   "id": "aac1e1a5",
   "metadata": {},
   "outputs": [
    {
     "name": "stderr",
     "output_type": "stream",
     "text": [
      "                                                                                ]\r"
     ]
    },
    {
     "data": {
      "image/png": "[encoded data removed]",
      "text/plain": [
       "<Figure size 864x720 with 2 Axes>"
      ]
     },
     "metadata": {
      "needs_background": "light"
     },
     "output_type": "display_data"
    }
   ],
   "source": [
    "# Determine the numeric variables\n",
    "numeric_cols_list = ['CNT_CHILDREN','AMT_INCOME_TOTAL','DAYS_BIRTH','DAYS_EMPLOYED', 'CNT_FAM_MEMBERS', 'Class']\n",
    "# Calculate the correlation between numeric variables\n",
    "correlation_heatmap(df_simples.select(numeric_cols_list),numeric_cols_list)"
   ]
  },
  {
   "cell_type": "markdown",
   "id": "a39e9f37",
   "metadata": {},
   "source": [
    "The 'CNT_FAM_MEMBERS' have strong correlation with 'CNT_CHILDREN', so we will remove 'CNT_FAM_MEMBERS' from list of features"
   ]
  },
  {
   "cell_type": "code",
   "execution_count": 69,
   "id": "bcc449ec",
   "metadata": {},
   "outputs": [],
   "source": [
    "# Drop 'CNT_CHILDREN' from the list of features\n",
    "df_simples = df_simples.drop('CNT_FAM_MEMBERS')\n",
    "numeric_cols_list.remove('CNT_FAM_MEMBERS')\n",
    "numeric_cols_list.remove('Class')"
   ]
  },
  {
   "cell_type": "code",
   "execution_count": 70,
   "id": "f52fac5f",
   "metadata": {},
   "outputs": [],
   "source": [
    "# Determine the categorical variables\n",
    "categorical_cols_list = ['CODE_GENDER', 'FLAG_WORK_PHONE', 'FLAG_PHONE', 'FLAG_EMAIL',\\\n",
    "                         'FLAG_OWN_CAR', 'FLAG_OWN_REALTY', 'NAME_INCOME_TYPE', 'NAME_EDUCATION_TYPE',\\\n",
    "                         'NAME_FAMILY_STATUS', 'NAME_HOUSING_TYPE', 'OCCUPATION_TYPE']\n"
   ]
  },
  {
   "cell_type": "code",
   "execution_count": 71,
   "id": "9630710e",
   "metadata": {},
   "outputs": [
    {
     "name": "stderr",
     "output_type": "stream",
     "text": [
      "                                                                                \r"
     ]
    }
   ],
   "source": [
    "# Add weight column to dataframe\n",
    "df_simples = add_weight_column(df_simples,'Class')"
   ]
  },
  {
   "cell_type": "code",
   "execution_count": 72,
   "id": "540d3f98",
   "metadata": {},
   "outputs": [
    {
     "name": "stderr",
     "output_type": "stream",
     "text": [
      "                                                                                ]\r"
     ]
    }
   ],
   "source": [
    "# String Index for all categorical features\n",
    "df_simples = stringIndex_pipeline(df_simples,categorical_cols_list)"
   ]
  },
  {
   "cell_type": "code",
   "execution_count": 73,
   "id": "d8b02539",
   "metadata": {},
   "outputs": [],
   "source": [
    "# After String Index, we drop all categorical features from dataframe\n",
    "df_simples = df_simples.drop(*categorical_cols_list)"
   ]
  },
  {
   "cell_type": "code",
   "execution_count": 74,
   "id": "fa17ae19",
   "metadata": {},
   "outputs": [],
   "source": [
    "# One hot encoding for all 'Index' categorical features\n",
    "df_simples = one_hot_pipeline(df_simples,categorical_cols_list)"
   ]
  },
  {
   "cell_type": "code",
   "execution_count": 75,
   "id": "ce15be91",
   "metadata": {},
   "outputs": [],
   "source": [
    "# After one hot, we drop all 'Index' categorical features from dataframe\n",
    "for c in categorical_cols_list:\n",
    "    df_simples = df_simples.drop(c+'Index')"
   ]
  },
  {
   "cell_type": "code",
   "execution_count": 76,
   "id": "3a699a38",
   "metadata": {},
   "outputs": [],
   "source": [
    "# Split data to traning data and testing data\n",
    "splits = split_data(df_simples,0.7,0.3)\n",
    "df_train = splits[0]\n",
    "df_test = splits[1]"
   ]
  },
  {
   "cell_type": "code",
   "execution_count": 77,
   "id": "1fe29328",
   "metadata": {},
   "outputs": [
    {
     "name": "stderr",
     "output_type": "stream",
     "text": [
      "                                                                                ]\r"
     ]
    }
   ],
   "source": [
    "# Training data, Building models and \n",
    "# get accuracy of models: Lsvc, lr, gbt, decision tree, random forest and naive bayes\n",
    "summary_dict = get_accuracy_models(df_train,df_test,numeric_cols_list,categorical_cols_list)"
   ]
  },
  {
   "cell_type": "code",
   "execution_count": 78,
   "id": "a1f74172",
   "metadata": {},
   "outputs": [
    {
     "name": "stdout",
     "output_type": "stream",
     "text": [
      "============================================\n",
      "Model:  Logistic Regression\n",
      "Accuracy:  0.9172540045766591\n",
      "Confusion Matrix: \n",
      "[[10021     0]\n",
      " [  904     0]]\n",
      "============================================\n",
      "Model:  LSVC\n",
      "Accuracy:  0.9172540045766591\n",
      "Confusion Matrix: \n",
      "[[10021     0]\n",
      " [  904     0]]\n",
      "============================================\n",
      "Model:  Naive Bayes\n",
      "Accuracy:  0.9172540045766591\n",
      "Confusion Matrix: \n",
      "[[10021     0]\n",
      " [  904     0]]\n",
      "============================================\n",
      "Model:  GBT\n",
      "Accuracy:  0.9030663615560641\n",
      "Confusion Matrix: \n",
      "[[9808  213]\n",
      " [ 846   58]]\n",
      "============================================\n",
      "Model:  Decision Tree\n",
      "Accuracy:  0.8745080091533181\n",
      "Confusion Matrix: \n",
      "[[9459  562]\n",
      " [ 809   95]]\n",
      "============================================\n",
      "Model:  Random Forest\n",
      "Accuracy:  0.9133180778032036\n",
      "Confusion Matrix: \n",
      "[[9949   72]\n",
      " [ 875   29]]\n"
     ]
    },
    {
     "name": "stderr",
     "output_type": "stream",
     "text": [
      "21/12/27 14:56:22 WARN HeartbeatReceiver: Removing executor driver with no recent heartbeats: 992199 ms exceeds timeout 120000 ms\n",
      "21/12/27 14:56:22 WARN SparkContext: Killing executors is not supported by current scheduler.\n"
     ]
    }
   ],
   "source": [
    "# Print accuracy and confusion matrix of models\n",
    "for model in summary_dict:\n",
    "    print('============================================')\n",
    "    print('Model: ', summary_dict[model][0])\n",
    "    print('Accuracy: ', summary_dict[model][2])\n",
    "    print('Confusion Matrix: ')\n",
    "    print(summary_dict[model][3])"
   ]
  },
  {
   "cell_type": "markdown",
   "id": "fd607d96",
   "metadata": {},
   "source": [
    "# Conclusion #\n",
    "\n",
    "* The data that we have is not enough information to apply credit score methods such as Fico score or Vintage analysis. So, by using clustering method to partition customers is also a good idea, this method allows us to cluster objectively customers base on historical data.  We performed two process of clustering to filter 'Good' or 'Bad' clients:\n",
    "    * First clustering: we use the informations such as the percentages of no loan, paid off and number of past due months to filter the bad suspicion clients, they are input of the second step.\n",
    "    * Second clustering: we apply the length debt of clients such as the percentage of one due month, two due months, three due months, four due months, and five due months to cluster on the bad suspicion clients. After this step, we will determine 'bad' clients.\n",
    "    \n",
    "    By applying two-steps clustering helps us to take a careful look at the data before making decision that a customer is good or bad.\n",
    "    \n",
    "\n",
    "* After labeling data, we have built some models and obtained positive results. To solve the imbalanced problem, we used “balancing” class weights method and it's very simple and effective. These results show that the algorithms of trees such as GBT, Decision Tree and Random Forest are suitable for the imbalanced data classification problem. In contrast, the algorithms LSVC, Logistic regression or Naive Bayes are not suitable because they have bias towards the majority class. The best is ramdom forest with accuracy of 91.3%\n",
    "\n",
    "\n"
   ]
  },
  {
   "cell_type": "markdown",
   "id": "cc3a07c9",
   "metadata": {},
   "source": [
    "### THANK YOU FOR READING ###\n",
    "## AUTHOR ##\n",
    "Tho Quy NGO"
   ]
  },
  {
   "cell_type": "code",
   "execution_count": null,
   "id": "df5fc0d8",
   "metadata": {},
   "outputs": [],
   "source": []
  }
 ],
 "metadata": {
  "kernelspec": {
   "display_name": "Python 3.9 (tensorflow)",
   "language": "python",
   "name": "tensorflow"
  },
  "language_info": {
   "codemirror_mode": {
    "name": "ipython",
    "version": 3
   },
   "file_extension": ".py",
   "mimetype": "text/x-python",
   "name": "python",
   "nbconvert_exporter": "python",
   "pygments_lexer": "ipython3",
   "version": "3.9.7"
  }
 },
 "nbformat": 4,
 "nbformat_minor": 5
}
